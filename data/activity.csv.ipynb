import pandas as pd
import random
import numpy as np

def calculate_calories(steps):
    return round(steps * 0.04, 2)

def generate_dataset(start_date, days):
    date_range = pd.date_range(start=start_date, periods=days)
    steps_data = [random.randint(1000, 25000) for _ in range(days)]
    calories_data = [calculate_calories(steps) for steps in steps_data]
    data = {
        "Date": date_range,
        "Steps": steps_data,
        "Calories_Burned": calories_data
    }
    
    df = pd.DataFrame(data)
    return df
dataset = generate_dataset("2024-01-01", 100)
dataset.to_csv('steps_calories_data.csv', index=False)
print("Dataset generated and saved as 'steps_calories_data.csv'")
